{
 "cells": [
  {
   "cell_type": "code",
   "execution_count": 1,
   "metadata": {},
   "outputs": [],
   "source": [
    "import os\n",
    "from rdkit import Chem\n",
    "from smiles_to_graph import graph_data_from_smiles_and_labels, graph_data_from_mol_and_labels\n",
    "from graph_models.mxmnet.model import MXMNetModel\n",
    "from graph_models.pamnet.model import PAMNetModel\n",
    "import torch\n",
    "from sklearn.manifold import TSNE\n",
    "import matplotlib.pyplot as plt\n",
    "from torch_geometric.data import Batch"
   ]
  },
  {
   "attachments": {},
   "cell_type": "markdown",
   "metadata": {},
   "source": [
    "# Получаем молекулярный граф\n",
    "\n",
    "### Граф из SMILES без лейблов и без координат но с водородами"
   ]
  },
  {
   "cell_type": "code",
   "execution_count": 2,
   "metadata": {},
   "outputs": [
    {
     "data": {
      "text/plain": [
       "Data(x=[63, 79], edge_index=[2, 132], edge_attr=[132, 10], z=[63], smiles='CCC1=NC=CN1C2=CC=CC(=N2)C3CCCN3C(=O)C4=CC=C(C=C4)OCCN(C)C')"
      ]
     },
     "execution_count": 2,
     "metadata": {},
     "output_type": "execute_result"
    }
   ],
   "source": [
    "smiles = 'CCC1=NC=CN1C2=CC=CC(=N2)C3CCCN3C(=O)C4=CC=C(C=C4)OCCN(C)C'\n",
    "\n",
    "graph_data_from_smiles_and_labels(smiles, with_hydrogen=True, with_coords=False)"
   ]
  },
  {
   "attachments": {},
   "cell_type": "markdown",
   "metadata": {},
   "source": [
    "### Граф из SMILES c лейблами без водородов"
   ]
  },
  {
   "cell_type": "code",
   "execution_count": 3,
   "metadata": {},
   "outputs": [
    {
     "data": {
      "text/plain": [
       "Data(x=[32, 79], edge_index=[2, 70], edge_attr=[70, 10], z=[32], y=[1, 3], smiles='CCC1=NC=CN1C2=CC=CC(=N2)C3CCCN3C(=O)C4=CC=C(C=C4)OCCN(C)C', pos=[32, 3])"
      ]
     },
     "execution_count": 3,
     "metadata": {},
     "output_type": "execute_result"
    }
   ],
   "source": [
    "smiles = 'CCC1=NC=CN1C2=CC=CC(=N2)C3CCCN3C(=O)C4=CC=C(C=C4)OCCN(C)C'\n",
    "y = [0., 1., 2.]\n",
    "\n",
    "graph_data_from_smiles_and_labels(smiles, with_hydrogen=False, with_coords=True, y=y)"
   ]
  },
  {
   "attachments": {},
   "cell_type": "markdown",
   "metadata": {},
   "source": [
    "### Граф из SDF без лейблов"
   ]
  },
  {
   "cell_type": "code",
   "execution_count": 4,
   "metadata": {},
   "outputs": [
    {
     "data": {
      "text/plain": [
       "Data(x=[63, 79], edge_index=[2, 132], edge_attr=[132, 10], z=[63], smiles='[H]c1nc(C([H])([H])C([H])([H])[H])n(-c2nc([C@@]3([H])N(C(=O)c4c([H])c([H])c(OC([H])([H])C([H])([H])N(C([H])([H])[H])C([H])([H])[H])c([H])c4[H])C([H])([H])C([H])([H])C3([H])[H])c([H])c([H])c2[H])c1[H]', pos=[63, 3])"
      ]
     },
     "execution_count": 4,
     "metadata": {},
     "output_type": "execute_result"
    }
   ],
   "source": [
    "mol = Chem.SDMolSupplier(os.path.join('data','CID_110094592.sdf'), removeHs=False)[0]\n",
    "\n",
    "graph_data_from_mol_and_labels(mol, with_hydrogen=True, with_coords=True)"
   ]
  },
  {
   "attachments": {},
   "cell_type": "markdown",
   "metadata": {},
   "source": [
    "# Получаем векторное представление молекулы"
   ]
  },
  {
   "cell_type": "code",
   "execution_count": 5,
   "metadata": {},
   "outputs": [],
   "source": [
    "device = 'cuda'\n",
    "\n",
    "model = PAMNetModel.load_from_checkpoint('model_checkpoints/PAMNET_checkpoint-epoch=04-val_loss=0.29.ckpt', map_location=torch.device(device))"
   ]
  },
  {
   "attachments": {},
   "cell_type": "markdown",
   "metadata": {},
   "source": [
    "### Вектор из SMILES"
   ]
  },
  {
   "cell_type": "code",
   "execution_count": 6,
   "metadata": {},
   "outputs": [
    {
     "data": {
      "text/plain": [
       "torch.Size([3, 128])"
      ]
     },
     "execution_count": 6,
     "metadata": {},
     "output_type": "execute_result"
    }
   ],
   "source": [
    "smiles = ['CCC1=NC=CN1C2=CC=CC(=N2)C3CCCN3C(=O)C4=CC=C(C=C4)OCCN(C)C', \n",
    "          'CC(C)C1C2=C(CCN1CC3=NC(=NO3)C4=CC=CC=N4)C5=CC=CC=C5N2',\n",
    "          'CC1=NC(=NO1)C2(CCCCC2)NC(=O)C3=CC=C(C=C3)OC(F)F']\n",
    "\n",
    "data_list = []\n",
    "for smile in smiles:\n",
    "    data = graph_data_from_smiles_and_labels(smile, with_hydrogen=False, with_coords=True)\n",
    "    data_list.append(data)\n",
    "\n",
    "with torch.no_grad():\n",
    "    embeds = model(Batch.from_data_list(data_list).to(device))['embeds']\n",
    "    \n",
    "embeds.shape"
   ]
  },
  {
   "cell_type": "markdown",
   "metadata": {},
   "source": [
    "### Визуализируем векторное представление для аминокислот"
   ]
  },
  {
   "cell_type": "code",
   "execution_count": 7,
   "metadata": {},
   "outputs": [],
   "source": [
    "aminoacids_smiles = {\n",
    "    \"A\": \"C[C@@H](C(=O)O)N\",\n",
    "    \"R\": \"C(C[C@@H](C(=O)O)N)CN=C(N)N\",\n",
    "    \"N\": \"C([C@@H](C(=O)O)N)C(=O)N\",\n",
    "    \"D\": \"C([C@@H](C(=O)O)N)C(=O)O\",\n",
    "    \"C\": \"C([C@@H](C(=O)O)N)S\",\n",
    "    \"Q\": \"C(CC(=O)N)[C@@H](C(=O)O)N\",\n",
    "    \"E\": \"C(CC(=O)O)[C@@H](C(=O)O)N\",\n",
    "    \"G\": \"C(C(=O)O)N\",\n",
    "    \"H\": \"C1=C(NC=N1)C[C@@H](C(=O)O)N\",\n",
    "    \"I\": \"CC[C@H](C)[C@@H](C(=O)O)N\",\n",
    "    \"L\": \"CC(C)C[C@@H](C(=O)O)N\",\n",
    "    \"K\": \"C(CCN)C[C@@H](C(=O)O)N\",\n",
    "    \"M\": \"CSCC[C@@H](C(=O)O)N\",\n",
    "    \"F\": \"C1=CC=C(C=C1)C[C@@H](C(=O)O)N\",\n",
    "    \"P\": \"C1C[C@H](NC1)C(=O)O\",\n",
    "    \"S\": \"C([C@@H](C(=O)O)N)O\",\n",
    "    \"T\": \"C[C@H]([C@@H](C(=O)O)N)O\",\n",
    "    \"W\": \"C1=CC=C2C(=C1)C(=CN2)C[C@@H](C(=O)O)N\",\n",
    "    \"Y\": \"C1=CC(=CC=C1C[C@@H](C(=O)O)N)O\",\n",
    "    \"V\": \"CC(C)[C@@H](C(=O)O)N\"\n",
    "}"
   ]
  },
  {
   "cell_type": "code",
   "execution_count": 8,
   "metadata": {},
   "outputs": [],
   "source": [
    "# visualize embeddings\n",
    "\n",
    "data_list = []\n",
    "\n",
    "for aa in aminoacids_smiles:\n",
    "    data = graph_data_from_smiles_and_labels(aminoacids_smiles[aa], with_hydrogen=False, with_coords=True)\n",
    "    data_list.append(data)\n",
    "\n",
    "\n",
    "with torch.no_grad():\n",
    "    embeds = model(Batch.from_data_list(data_list).to(device))['embeds'].cpu().numpy()\n"
   ]
  },
  {
   "cell_type": "code",
   "execution_count": 9,
   "metadata": {},
   "outputs": [
    {
     "data": {
      "image/png": "[encoded data removed]",
      "text/plain": [
       "<Figure size 600x600 with 1 Axes>"
      ]
     },
     "metadata": {},
     "output_type": "display_data"
    }
   ],
   "source": [
    "tsne = TSNE(n_components=2, random_state=42, perplexity=1, n_iter=500)\n",
    "\n",
    "tsne_embeds = tsne.fit_transform(embeds)\n",
    "\n",
    "plt.figure(figsize=(6, 6))\n",
    "plt.scatter(tsne_embeds[:, 0], tsne_embeds[:, 1])\n",
    "for i, aa in enumerate(aminoacids_smiles):\n",
    "    plt.annotate(aa, (tsne_embeds[i, 0], tsne_embeds[i, 1]))\n",
    "    \n",
    "plt.show()  "
   ]
  }
 ],
 "metadata": {
  "kernelspec": {
   "display_name": "base",
   "language": "python",
   "name": "python3"
  },
  "language_info": {
   "codemirror_mode": {
    "name": "ipython",
    "version": 3
   },
   "file_extension": ".py",
   "mimetype": "text/x-python",
   "name": "python",
   "nbconvert_exporter": "python",
   "pygments_lexer": "ipython3",
   "version": "3.11.5"
  },
  "orig_nbformat": 4
 },
 "nbformat": 4,
 "nbformat_minor": 2
}
